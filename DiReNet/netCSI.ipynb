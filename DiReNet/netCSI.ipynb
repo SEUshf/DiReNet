{
 "cells": [
  {
   "cell_type": "code",
   "execution_count": null,
   "metadata": {},
   "outputs": [],
   "source": [
    "import numpy as np\n",
    "import random\n",
    "import torch\n",
    "from torch import nn, optim\n",
    "from torch.utils.data import DataLoader,TensorDataset\n",
    "torch.cuda.set_device(0)\n",
    "import scipy.io as sio\n",
    "from thop import profile\n",
    "import matplotlib.pyplot as plt\n",
    "from network.utils import *\n",
    "from network.csinet import *"
   ]
  },
  {
   "cell_type": "code",
   "execution_count": null,
   "metadata": {},
   "outputs": [],
   "source": [
    "mat = sio.loadmat('./dataset/CDLC300.mat')\n",
    "dataP = mat['dataP']\n",
    "dataP = torch.from_numpy(dataP)\n",
    "dataP = (dataP-dataP.min())/(dataP.max()-dataP.min())"
   ]
  },
  {
   "cell_type": "code",
   "execution_count": null,
   "metadata": {},
   "outputs": [],
   "source": [
    "model_name = 'CsiNet'\n",
    "reduction = 8\n",
    "epochs = 1000 \n",
    "batch_size = 200 \n",
    "lr=3e-4"
   ]
  },
  {
   "cell_type": "code",
   "execution_count": null,
   "metadata": {},
   "outputs": [],
   "source": [
    "train_dataloader = DataLoader(dataP[0:100000,:], batch_size=batch_size, shuffle=True, num_workers=4)\n",
    "val_dataloader = DataLoader(dataP[100000:120000,:], batch_size=batch_size, shuffle=True, num_workers=4)\n",
    "model = eval(model_name)(reduction).cuda()\n",
    "optimizer = optim.Adam(model.parameters(), lr = lr )\n",
    "MSE_loss = nn.MSELoss().cuda()"
   ]
  },
  {
   "cell_type": "code",
   "execution_count": null,
   "metadata": {},
   "outputs": [],
   "source": [
    "best_epoch = -1\n",
    "best_loss = 100\n",
    "best_nmse = 0\n",
    "best_model = model\n",
    "train_epochs_loss = []\n",
    "val_epochs_loss = []\n",
    "NMSEs = []\n",
    "rhos = []\n",
    "print('net:{}, reduction:{}'.format(model_name,reduction))\n",
    "for epoch in range(epochs):\n",
    "############  train  ###############\n",
    "    model.train()\n",
    "    train_epoch_loss = []\n",
    "    for idx, data in enumerate(train_dataloader):\n",
    "        \n",
    "        data = data.cuda()\n",
    "        data_hat = model(data) \n",
    "        loss = MSE_loss(data_hat, data) \n",
    "        \n",
    "        optimizer.zero_grad()\n",
    "        loss.backward()\n",
    "        optimizer.step()\n",
    "\n",
    "        train_epoch_loss.append(loss.item())\n",
    "    train_epochs_loss.append(np.average(train_epoch_loss))\n",
    "############  val  ###############\n",
    "    model.eval()\n",
    "    val_epoch_loss = []\n",
    "    NMSE = []\n",
    "    rho = []\n",
    "    for idx, data in enumerate(val_dataloader):\n",
    "        \n",
    "        data = data.cuda()\n",
    "        data_hat = model(data) \n",
    "        loss = MSE_loss(data_hat, data) \n",
    "        sparse_gt = data - 0.5\n",
    "        sparse_pred = data_hat - 0.5\n",
    "        power_gt = sparse_gt[:, 0, :, :] ** 2 + sparse_gt[:, 1, :, :] ** 2\n",
    "        difference = sparse_gt - sparse_pred\n",
    "        mse_gt = difference[:, 0, :, :] ** 2 + difference[:, 1, :, :] ** 2\n",
    "        lossDB = (mse_gt.sum(dim=[1, 2]) / power_gt.sum(dim=[1, 2])).mean()\n",
    "        real_cross = data_hat[:, 0, :, :] * data[:, 0, :, :] + data_hat[:, 1, :, :] * data[:, 1, :, :]\n",
    "        real_cross = real_cross.sum(dim=2)\n",
    "        imag_cross = data_hat[:, 0, :, :] * data[:, 1, :, :] - data_hat[:, 1, :, :] * data[:, 0, :, :]\n",
    "        imag_cross = imag_cross.sum(dim=2)\n",
    "        norm_cross = torch.sqrt(real_cross ** 2 + imag_cross ** 2)\n",
    "\n",
    "        norm_pred = data[:, 0, :, :] ** 2 + data[:, 1, :, :] ** 2\n",
    "        norm_pred = torch.sqrt(norm_pred.sum(dim=2))\n",
    "        norm_gt = data_hat[:, 0, :, :] ** 2 + data_hat[:, 1, :, :] ** 2\n",
    "        norm_gt = torch.sqrt(norm_gt.sum(dim=2))\n",
    "\n",
    "        rho_data = (norm_cross / (norm_pred * norm_gt)).mean()\n",
    "\n",
    "        val_epoch_loss.append(loss.item())\n",
    "        NMSE.append(10*np.log10(lossDB.item()))\n",
    "        rho.append(rho_data.item())\n",
    "    val_epochs_loss.append(np.average(val_epoch_loss))\n",
    "    NMSEs.append(np.average(NMSE))\n",
    "    rhos.append(np.average(rho))\n",
    "############  save best  ###############\n",
    "    if val_epochs_loss[epoch] < best_loss:\n",
    "        best_epoch = epoch\n",
    "        best_loss = val_epochs_loss[epoch]\n",
    "        best_nmse = NMSEs[epoch]\n",
    "        best_rho = rhos[epoch]\n",
    "        best_model = model\n",
    "############  print  ###############\n",
    "    if epoch%10 == 0:\n",
    "        print(\"epoch={}/{}, lr={:.3e}, train_loss={:.3e}, val_loss={:.3e}, nmse={}, rho={}\".format(epoch, epochs,\\\n",
    "            optimizer.state_dict()['param_groups'][0]['lr'],train_epochs_loss[epoch],val_epochs_loss[epoch],NMSEs[epoch],rhos[epoch]))\n",
    "    if epoch%50==0:\n",
    "        print(\"best_epoch={},best_loss={:.3e},best_nmse={},best_rho={}\".format(best_epoch,best_loss,best_nmse,best_rho))"
   ]
  },
  {
   "cell_type": "code",
   "execution_count": null,
   "metadata": {},
   "outputs": [],
   "source": [
    "print('net:{}, reduction:{}'.format(model_name,reduction))\n",
    "print('best_epoch={}, best_val_loss={}, best_nmse={}'.format(best_epoch,best_loss,best_nmse))\n",
    "plt.figure(figsize=(8,4))\n",
    "plt.plot(train_epochs_loss[1:], label='train')\n",
    "plt.plot(val_epochs_loss[1:], label='val')\n",
    "plt.legend()\n",
    "plt.show()"
   ]
  }
 ],
 "metadata": {
  "kernelspec": {
   "display_name": "Python 3.8.8 ('base')",
   "language": "python",
   "name": "python3"
  },
  "language_info": {
   "codemirror_mode": {
    "name": "ipython",
    "version": 3
   },
   "file_extension": ".py",
   "mimetype": "text/x-python",
   "name": "python",
   "nbconvert_exporter": "python",
   "pygments_lexer": "ipython3",
   "version": "3.8.8"
  },
  "vscode": {
   "interpreter": {
    "hash": "d4d1e4263499bec80672ea0156c357c1ee493ec2b1c70f0acce89fc37c4a6abe"
   }
  }
 },
 "nbformat": 4,
 "nbformat_minor": 4
}
